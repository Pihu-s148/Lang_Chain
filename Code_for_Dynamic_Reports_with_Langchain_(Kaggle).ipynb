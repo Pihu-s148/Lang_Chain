{
  "nbformat": 4,
  "nbformat_minor": 0,
  "metadata": {
    "colab": {
      "provenance": []
    },
    "kernelspec": {
      "name": "python3",
      "display_name": "Python 3"
    },
    "language_info": {
      "name": "python"
    }
  },
  "cells": [
    {
      "cell_type": "markdown",
      "source": [
        "\n",
        "### Step 1: Install Required Libraries\n",
        "\n",
        "In the first cell of your Colab notebook, install the necessary libraries. LangChain and OpenAI are the primary libraries needed."
      ],
      "metadata": {
        "id": "EcFUQyv47uWs"
      }
    },
    {
      "cell_type": "code",
      "source": [
        "!pip install httpx==0.23.0"
      ],
      "metadata": {
        "colab": {
          "base_uri": "https://localhost:8080/"
        },
        "id": "j4NtFRATwPpv",
        "outputId": "d56383a0-5d1b-4c32-f063-2b0ec9b2b9fa"
      },
      "execution_count": 1,
      "outputs": [
        {
          "output_type": "stream",
          "name": "stdout",
          "text": [
            "Requirement already satisfied: httpx==0.23.0 in /usr/local/lib/python3.10/dist-packages (0.23.0)\n",
            "Requirement already satisfied: certifi in /usr/local/lib/python3.10/dist-packages (from httpx==0.23.0) (2024.8.30)\n",
            "Requirement already satisfied: sniffio in /usr/local/lib/python3.10/dist-packages (from httpx==0.23.0) (1.3.1)\n",
            "Requirement already satisfied: rfc3986<2,>=1.3 in /usr/local/lib/python3.10/dist-packages (from rfc3986[idna2008]<2,>=1.3->httpx==0.23.0) (1.5.0)\n",
            "Requirement already satisfied: httpcore<0.16.0,>=0.15.0 in /usr/local/lib/python3.10/dist-packages (from httpx==0.23.0) (0.15.0)\n",
            "Requirement already satisfied: h11<0.13,>=0.11 in /usr/local/lib/python3.10/dist-packages (from httpcore<0.16.0,>=0.15.0->httpx==0.23.0) (0.12.0)\n",
            "Requirement already satisfied: anyio==3.* in /usr/local/lib/python3.10/dist-packages (from httpcore<0.16.0,>=0.15.0->httpx==0.23.0) (3.7.1)\n",
            "Requirement already satisfied: idna>=2.8 in /usr/local/lib/python3.10/dist-packages (from anyio==3.*->httpcore<0.16.0,>=0.15.0->httpx==0.23.0) (3.10)\n",
            "Requirement already satisfied: exceptiongroup in /usr/local/lib/python3.10/dist-packages (from anyio==3.*->httpcore<0.16.0,>=0.15.0->httpx==0.23.0) (1.2.2)\n"
          ]
        }
      ]
    },
    {
      "cell_type": "code",
      "source": [
        "!pip install langchain_community kagglehub"
      ],
      "metadata": {
        "id": "HsY8Ab3Q7ygr"
      },
      "execution_count": null,
      "outputs": []
    },
    {
      "cell_type": "code",
      "source": [
        "!pip install -qU langchain-openai"
      ],
      "metadata": {
        "colab": {
          "base_uri": "https://localhost:8080/"
        },
        "id": "BPY_vgh-2eZD",
        "outputId": "f29e8e1b-467c-4dda-97d3-e500d8c2dd8c"
      },
      "execution_count": 8,
      "outputs": [
        {
          "output_type": "stream",
          "name": "stdout",
          "text": [
            "\u001b[?25l   \u001b[90m━━━━━━━━━━━━━━━━━━━━━━━━━━━━━━━━━━━━━━━━\u001b[0m \u001b[32m0.0/50.7 kB\u001b[0m \u001b[31m?\u001b[0m eta \u001b[36m-:--:--\u001b[0m\r\u001b[2K   \u001b[90m━━━━━━━━━━━━━━━━━━━━━━━━━━━━━━━━━━━━━━━━\u001b[0m \u001b[32m50.7/50.7 kB\u001b[0m \u001b[31m2.0 MB/s\u001b[0m eta \u001b[36m0:00:00\u001b[0m\n",
            "\u001b[2K   \u001b[90m━━━━━━━━━━━━━━━━━━━━━━━━━━━━━━━━━━━━━━━━\u001b[0m \u001b[32m390.3/390.3 kB\u001b[0m \u001b[31m10.4 MB/s\u001b[0m eta \u001b[36m0:00:00\u001b[0m\n",
            "\u001b[2K   \u001b[90m━━━━━━━━━━━━━━━━━━━━━━━━━━━━━━━━━━━━━━━━\u001b[0m \u001b[32m1.2/1.2 MB\u001b[0m \u001b[31m29.3 MB/s\u001b[0m eta \u001b[36m0:00:00\u001b[0m\n",
            "\u001b[?25h"
          ]
        }
      ]
    },
    {
      "cell_type": "markdown",
      "source": [
        "\n",
        "- **LangChain**: A framework for building applications with language models.\n"
      ],
      "metadata": {
        "id": "UyMOg-w97z_b"
      }
    },
    {
      "cell_type": "markdown",
      "source": [
        "\n",
        "### Step 2: **Import Libraries**\n",
        "\n",
        "After installing the library, import the necessary modules for your code."
      ],
      "metadata": {
        "id": "wRPeaTkK73bk"
      }
    },
    {
      "cell_type": "code",
      "source": [
        "from langchain_openai import OpenAI\n",
        "from langchain import LLMChain\n",
        "from langchain.prompts import PromptTemplate\n",
        "import kagglehub\n",
        "import pandas as pd\n"
      ],
      "metadata": {
        "id": "MJG_pQJI77jT"
      },
      "execution_count": 9,
      "outputs": []
    },
    {
      "cell_type": "markdown",
      "source": [
        "\n",
        "### Step 3: **Set Up OpenAI API Key**\n",
        "\n",
        "You'll need an OpenAI API key to access the language model. You can obtain this key from [OpenAI's website](https://openai.com/api/). Once you have the key, set it in your environment."
      ],
      "metadata": {
        "id": "DL1VlPlHCast"
      }
    },
    {
      "cell_type": "code",
      "source": [
        "# Set your OpenAI API key\n",
        "import os\n",
        "os.environ[\"OPENAI_API_KEY\"] =\"YOUR-OPENAI_API_KEY\""
      ],
      "metadata": {
        "id": "SDNIwc_mCf11"
      },
      "execution_count": 10,
      "outputs": []
    },
    {
      "cell_type": "markdown",
      "source": [
        "\n",
        "### Step 4: **Import Dataset from KaggleHub**\n"
      ],
      "metadata": {
        "id": "_nZs2eJc4FIo"
      }
    },
    {
      "cell_type": "code",
      "source": [
        "# Download latest version\n",
        "path = kagglehub.dataset_download(\"kyanyoga/sample-sales-data\")\n",
        "print(\"Path to dataset files:\", path)"
      ],
      "metadata": {
        "colab": {
          "base_uri": "https://localhost:8080/"
        },
        "id": "iSm5xoy5zamv",
        "outputId": "16292388-bff0-492b-d414-17c14145d873"
      },
      "execution_count": 4,
      "outputs": [
        {
          "output_type": "stream",
          "name": "stdout",
          "text": [
            "Warning: Looks like you're using an outdated `kagglehub` version, please consider updating (latest version: 0.3.5)\n",
            "Path to dataset files: /root/.cache/kagglehub/datasets/kyanyoga/sample-sales-data/versions/1\n"
          ]
        }
      ]
    },
    {
      "cell_type": "markdown",
      "source": [
        "\n",
        "* We added the encoding parameter to the pd.read_csv function and set it to `'latin-1'`. This tells pandas to use the 'latin-1' encoding to decode the file instead of the default UTF-8."
      ],
      "metadata": {
        "id": "EMoDtVvi3_tb"
      }
    },
    {
      "cell_type": "code",
      "source": [
        "# Load the CSV file\n",
        "file_path = f\"{path}/sales_data_sample.csv\"\n",
        "sales_data = pd.read_csv(file_path, encoding='latin1')"
      ],
      "metadata": {
        "id": "ggBFTLbn0fik"
      },
      "execution_count": 5,
      "outputs": []
    },
    {
      "cell_type": "markdown",
      "source": [
        "\n",
        "#### Step 5: **Filter the Large Dataset & Define the Prompt to Chain with the Input Data**\n",
        "\n",
        "Create a prompt and set up the LangChain to generate the sales report.\n",
        "\n",
        "\n"
      ],
      "metadata": {
        "id": "UKBoICt4Cii4"
      }
    },
    {
      "cell_type": "code",
      "source": [
        "# Filter data for the last quarter (QTR_ID = 4)\n",
        "last_quarter_data = sales_data[sales_data['QTR_ID'] == 4]\n",
        "\n",
        "# Aggregate necessary metrics\n",
        "revenue = last_quarter_data['SALES'].sum()\n",
        "units_sold = last_quarter_data['QUANTITYORDERED'].sum()\n",
        "top_product = (\n",
        "    last_quarter_data.groupby('PRODUCTCODE')['SALES'].sum().idxmax()\n",
        ")\n",
        "\n",
        "# Prepare the data for LangChain\n",
        "input_data = {\n",
        "    \"revenue\": f\"${revenue:,.2f}\",\n",
        "    \"units_sold\": units_sold,\n",
        "    \"top_product\": top_product,\n",
        "}\n",
        "\n",
        "# Define the prompt\n",
        "report_prompt = \"\"\"\n",
        "Generate a sales report for last quarter.\n",
        "Revenue: {revenue}\n",
        "Units Sold: {units_sold}\n",
        "Top Product: {top_product}\n",
        "\"\"\"\n",
        "\n",
        "# Create a prompt template\n",
        "prompt_template = PromptTemplate.from_template(report_prompt)\n",
        "\n",
        "# Set up the LLMChain\n",
        "chain = LLMChain(llm=OpenAI(), prompt=prompt_template)"
      ],
      "metadata": {
        "id": "4KVDyTOvBbPW"
      },
      "execution_count": 11,
      "outputs": []
    },
    {
      "cell_type": "markdown",
      "source": [
        "\n",
        "### Step 6: **Run the Chain and Print the Response**\n",
        "\n",
        "Select the data for the last quarter and run the chain."
      ],
      "metadata": {
        "id": "3rgiODvU8L6C"
      }
    },
    {
      "cell_type": "code",
      "source": [
        "# Run the chain with the data\n",
        "response = chain.invoke(input_data)\n",
        "\n",
        "# Print the response\n",
        "print(response)"
      ],
      "metadata": {
        "id": "5Z6oFl7p8BUb",
        "colab": {
          "base_uri": "https://localhost:8080/"
        },
        "outputId": "14afaf08-f52f-4d00-ab6a-7ead6857fe9c"
      },
      "execution_count": 12,
      "outputs": [
        {
          "output_type": "stream",
          "name": "stdout",
          "text": [
            "{'revenue': '$3,874,780.01', 'units_sold': 38148, 'top_product': 'S18_3232', 'text': '\\nSales Report for Last Quarter:\\n\\nRevenue: $3,874,780.01\\nUnits Sold: 38,148\\nAverage Revenue per Unit: $101.62\\n\\nTop Product: S18_3232\\nUnits Sold: 1,764\\nRevenue: $211,681.28\\n\\nOther Top Selling Products:\\n1. S24_2000 - Units Sold: 1,501, Revenue: $189,099.26\\n2. S18_4600 - Units Sold: 1,416, Revenue: $141,468.84\\n3. S18_3029 - Units Sold: 1,297, Revenue: $129,700.03\\n4. S24_1937 - Units Sold: 1,263, Revenue: $152,149.73\\n5. S18_1662 - Units Sold: 1,246, Revenue: $149,520.92\\n\\nTotal Revenue: $3,874,780.01\\nTotal Units Sold: 38,148\\nAverage Revenue per Unit: $101.62'}\n"
          ]
        }
      ]
    },
    {
      "cell_type": "markdown",
      "source": [
        "\n",
        "### Additional Resources\n",
        "\n",
        "- **OpenAI API Documentation**: [OpenAI API Docs](https://beta.openai.com/docs/)\n",
        "- **Langchain GitHub**: [Langchain GitHub](https://github.com/langchain/langchain)"
      ],
      "metadata": {
        "id": "kh8AN6BY8Wjb"
      }
    }
  ]
}